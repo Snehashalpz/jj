{
 "cells": [
  {
   "cell_type": "markdown",
   "id": "00a75ce8",
   "metadata": {},
   "source": [
    "# CHALLENGE-1-->>(square numbers and return their sum)"
   ]
  },
  {
   "cell_type": "code",
   "execution_count": 5,
   "id": "90fc724e",
   "metadata": {},
   "outputs": [
    {
     "name": "stdout",
     "output_type": "stream",
     "text": [
      "The square numbers and thier sum is: 35\n"
     ]
    }
   ],
   "source": [
    "#challenge 1: SQUARE NUMBERS AND THEIR SUM\n",
    "\n",
    "class point:\n",
    "    def __init__(self,x,y,z):\n",
    "        self.x = x\n",
    "        self.y = y\n",
    "        self.z = z\n",
    "        \n",
    "    def sqSum(self):\n",
    "        print(\"The square numbers and thier sum is:\",self.x**2+self.y**2+self.z**2)\n",
    "\n",
    "\n",
    "obj=point(1,3,5)\n",
    "obj.sqSum()\n",
    "    \n"
   ]
  },
  {
   "cell_type": "markdown",
   "id": "118baa5f",
   "metadata": {},
   "source": [
    "# CHALLENGE-2-->>(Implement a calculator class)"
   ]
  },
  {
   "cell_type": "code",
   "execution_count": 7,
   "id": "f236a91c",
   "metadata": {},
   "outputs": [
    {
     "name": "stdout",
     "output_type": "stream",
     "text": [
      "The addition of two num is: 104\n",
      "The subtraction of two num is: 84\n",
      "The multiplication of two num is: 940\n",
      "The division of two num is: 9.4\n"
     ]
    }
   ],
   "source": [
    "class calculator:\n",
    "    def __init__(self,num1,num2):\n",
    "        self.num1 = num1\n",
    "        self.num2 = num2\n",
    "        \n",
    "    def addition(self):\n",
    "        return self.num1 + self.num2\n",
    "    \n",
    "    def subtraction(self):\n",
    "        return self.num2 - self.num1\n",
    "    \n",
    "    def multiplication(self):\n",
    "        return self.num1 * self.num2\n",
    "    \n",
    "    def division(self):\n",
    "        return self.num2 / self.num1\n",
    "    \n",
    "    \n",
    "obj = calculator(10,94)\n",
    "\n",
    "addition = obj.addition()\n",
    "print(\"The addition of two num is:\",addition)\n",
    "\n",
    "subtraction = obj.subtraction()\n",
    "print(\"The subtraction of two num is:\",subtraction)\n",
    "\n",
    "multiplication = obj.multiplication()\n",
    "print(\"The multiplication of two num is:\",multiplication)\n",
    "\n",
    "division = obj.division()\n",
    "print(\"The division of two num is:\",division)\n",
    "\n",
    "\n",
    "        \n",
    "    "
   ]
  },
  {
   "cell_type": "markdown",
   "id": "51366b91",
   "metadata": {},
   "source": [
    "# CHALLENGE 3-->>(Implement the complete student class)"
   ]
  },
  {
   "cell_type": "code",
   "execution_count": 18,
   "id": "64eafe42",
   "metadata": {},
   "outputs": [
    {
     "name": "stdout",
     "output_type": "stream",
     "text": [
      "I got this NAME by using set and get method: Sneha Aravind\n",
      "I got this ROLL NUMBER by using set and get method: 2701\n"
     ]
    }
   ],
   "source": [
    "class students: \n",
    "    \n",
    "    \n",
    "    def set_name(self,name):\n",
    "        self.__name = name\n",
    "    \n",
    "    def get_name(self):\n",
    "        return self.__name\n",
    "    \n",
    "    def set_roll_number(self,roll_number):\n",
    "        self.__roll_number = roll_number\n",
    "        \n",
    "    def get_roll_number(self):\n",
    "        return self.__roll_number\n",
    "       \n",
    "    \n",
    "stud = students()\n",
    "\n",
    "stud.set_name(\"Sneha Aravind\")\n",
    "stud.set_roll_number(2701)\n",
    "\n",
    "name = stud.get_name()\n",
    "print(\"I got this NAME by using set and get method:\",name)\n",
    "\n",
    "rollNumber = stud.get_roll_number()\n",
    "print(\"I got this ROLL NUMBER by using set and get method:\",rollNumber)"
   ]
  },
  {
   "cell_type": "markdown",
   "id": "24618866",
   "metadata": {},
   "source": [
    "# challenge--4--->>implement a baning account"
   ]
  },
  {
   "cell_type": "code",
   "execution_count": 21,
   "id": "75fe9422",
   "metadata": {},
   "outputs": [
    {
     "name": "stdout",
     "output_type": "stream",
     "text": [
      "Ashish\n",
      "5000\n",
      "Ashish\n",
      "5000\n",
      "5\n"
     ]
    }
   ],
   "source": [
    "class Account:\n",
    "    def __init__(self,title,balance):\n",
    "        self.title = title\n",
    "        self.balance = balance\n",
    "        \n",
    "class SavingsAccount(Account):\n",
    "    def __init__(self,title,balance,interestRate):\n",
    "        super().__init__(title,balance)\n",
    "        self.interestRate = interestRate\n",
    "        \n",
    "        \n",
    "account = Account(\"Ashish\",5000)\n",
    "print(account.title)\n",
    "print(account.balance)\n",
    "\n",
    "savings_account = SavingsAccount(\"Ashish\",5000,5)\n",
    "print(savings_account.title)\n",
    "print(savings_account.balance)\n",
    "print(savings_account.interestRate)"
   ]
  },
  {
   "cell_type": "markdown",
   "id": "43351264",
   "metadata": {},
   "source": [
    "# CHALENGE 5-->> Handling bank account"
   ]
  },
  {
   "cell_type": "code",
   "execution_count": 35,
   "id": "57537202",
   "metadata": {},
   "outputs": [
    {
     "name": "stdout",
     "output_type": "stream",
     "text": [
      "balance after deposite: 2500\n",
      "balance after withdrawal: 1500\n",
      "the interestamount is: 100.0\n"
     ]
    }
   ],
   "source": [
    "class Account:\n",
    "    def __init__(self,title,balance):\n",
    "        self.title = title\n",
    "        self.balance = balance\n",
    "        \n",
    "    def withdrawal(self,amount):\n",
    "        self.balance -= amount\n",
    "    \n",
    "        \n",
    "    def deposite(self,amount):\n",
    "        self.balance += amount\n",
    "        \n",
    "    def get_balance(self):\n",
    "        return self.balance\n",
    "\n",
    "class SavingsAccount(Account):\n",
    "    def __init__(self, title= None, balance = 0, interestRate = 0):\n",
    "        super().__init__(title,balance)\n",
    "        self.interestRate = interestRate\n",
    "        \n",
    "    def interestAmount(self):\n",
    "        return (self.balance * self.interestRate)/100\n",
    "    \n",
    "demo1 = SavingsAccount(\"Ashish\",2000,5)\n",
    "demo1.deposite(500)\n",
    "print(\"balance after deposite:\",demo1.get_balance())\n",
    "\n",
    "demo1 = SavingsAccount(\"Ashish\",2000,5)\n",
    "demo1.withdrawal(500)\n",
    "print(\"balance after withdrawal:\",demo1.get_balance())\n",
    "\n",
    "demo1 = SavingsAccount(\"Ashish\",2000,5)\n",
    "print(\"the interestamount is:\",demo1.interestAmount())\n",
    "    \n",
    "    "
   ]
  },
  {
   "cell_type": "code",
   "execution_count": null,
   "id": "d0a76a04",
   "metadata": {},
   "outputs": [],
   "source": []
  }
 ],
 "metadata": {
  "kernelspec": {
   "display_name": "Python 3 (ipykernel)",
   "language": "python",
   "name": "python3"
  },
  "language_info": {
   "codemirror_mode": {
    "name": "ipython",
    "version": 3
   },
   "file_extension": ".py",
   "mimetype": "text/x-python",
   "name": "python",
   "nbconvert_exporter": "python",
   "pygments_lexer": "ipython3",
   "version": "3.10.9"
  }
 },
 "nbformat": 4,
 "nbformat_minor": 5
}
